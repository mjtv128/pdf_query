{
  "nbformat": 4,
  "nbformat_minor": 0,
  "metadata": {
    "colab": {
      "provenance": [],
      "authorship_tag": "ABX9TyN0Pc9S4goVt+O8PU46Sg3c",
      "include_colab_link": true
    },
    "kernelspec": {
      "name": "python3",
      "display_name": "Python 3"
    },
    "language_info": {
      "name": "python"
    }
  },
  "cells": [
    {
      "cell_type": "markdown",
      "metadata": {
        "id": "view-in-github",
        "colab_type": "text"
      },
      "source": [
        "<a href=\"https://colab.research.google.com/github/mjtv128/pdf_query/blob/main/main.ipynb\" target=\"_parent\"><img src=\"https://colab.research.google.com/assets/colab-badge.svg\" alt=\"Open In Colab\"/></a>"
      ]
    },
    {
      "cell_type": "code",
      "execution_count": null,
      "metadata": {
        "colab": {
          "base_uri": "https://localhost:8080/"
        },
        "id": "zv6DLdTUXLDh",
        "outputId": "e7fc18d4-2f65-4769-fbac-d858aff8bee2"
      },
      "outputs": [
        {
          "output_type": "stream",
          "name": "stdout",
          "text": [
            "\u001b[2K     \u001b[90m━━━━━━━━━━━━━━━━━━━━━━━━━━━━━━━━━━━━━━━━\u001b[0m \u001b[32m4.4/4.4 MB\u001b[0m \u001b[31m13.0 MB/s\u001b[0m eta \u001b[36m0:00:00\u001b[0m\n",
            "\u001b[2K     \u001b[90m━━━━━━━━━━━━━━━━━━━━━━━━━━━━━━━━━━━━━━━━\u001b[0m \u001b[32m30.6/30.6 MB\u001b[0m \u001b[31m26.5 MB/s\u001b[0m eta \u001b[36m0:00:00\u001b[0m\n",
            "\u001b[?25h"
          ]
        }
      ],
      "source": [
        "!pip install -q cassio datasets langchain openai pymupdf fitz tiktoken pycryptodome pikepdf"
      ]
    },
    {
      "cell_type": "code",
      "source": [
        "from langchain.vectorstores.cassandra import Cassandra\n",
        "from langchain.indexes.vectorstore import VectorStoreIndexWrapper\n",
        "from langchain.llms import OpenAI\n",
        "from langchain.embeddings import OpenAIEmbeddings\n",
        "\n",
        "from datasets import load_dataset\n",
        "\n",
        "import cassio"
      ],
      "metadata": {
        "id": "UW2jtT3jYiKj"
      },
      "execution_count": null,
      "outputs": []
    },
    {
      "cell_type": "code",
      "source": [
        "!pip install PyPDF2"
      ],
      "metadata": {
        "colab": {
          "base_uri": "https://localhost:8080/"
        },
        "id": "GaArY1Y6YxEr",
        "outputId": "7ff6754a-3ac8-4df7-fb59-2e31c0fdb011"
      },
      "execution_count": null,
      "outputs": [
        {
          "output_type": "stream",
          "name": "stdout",
          "text": [
            "Collecting PyPDF2\n",
            "  Downloading pypdf2-3.0.1-py3-none-any.whl (232 kB)\n",
            "\u001b[?25l     \u001b[90m━━━━━━━━━━━━━━━━━━━━━━━━━━━━━━━━━━━━━━━━\u001b[0m \u001b[32m0.0/232.6 kB\u001b[0m \u001b[31m?\u001b[0m eta \u001b[36m-:--:--\u001b[0m\r\u001b[2K     \u001b[91m━━━━━━━━━━━━━━━━━━━━━\u001b[0m\u001b[90m╺\u001b[0m\u001b[90m━━━━━━━━━━━━━━━━━━\u001b[0m \u001b[32m122.9/232.6 kB\u001b[0m \u001b[31m3.6 MB/s\u001b[0m eta \u001b[36m0:00:01\u001b[0m\r\u001b[2K     \u001b[90m━━━━━━━━━━━━━━━━━━━━━━━━━━━━━━━━━━━━━━━━\u001b[0m \u001b[32m232.6/232.6 kB\u001b[0m \u001b[31m4.4 MB/s\u001b[0m eta \u001b[36m0:00:00\u001b[0m\n",
            "\u001b[?25hInstalling collected packages: PyPDF2\n",
            "Successfully installed PyPDF2-3.0.1\n"
          ]
        }
      ]
    },
    {
      "cell_type": "code",
      "source": [
        "from PyPDF2 import PdfReader\n",
        "from Crypto.Cipher import AES\n",
        "from pikepdf import Pdf\n",
        "from urllib.request import urlopen\n",
        "from io import BytesIO\n",
        "import fitz"
      ],
      "metadata": {
        "id": "ul0C_fCYY07l"
      },
      "execution_count": null,
      "outputs": []
    },
    {
      "cell_type": "code",
      "source": [
      ],
      "metadata": {
        "id": "tEa5skeLY3Dr"
      },
      "execution_count": null,
      "outputs": []
    },
    {
      "cell_type": "code",
      "source": [
        "# pdfreader = PdfReader('/content/NEA11_FS.pdf')\n",
        "doc = fitz.open(\"/content/NEA11_FS.pdf\")"
      ],
      "metadata": {
        "id": "-USCnZoOZTTE"
      },
      "execution_count": null,
      "outputs": []
    },
    {
      "cell_type": "code",
      "source": [
        "!pip uninstall pycryptodome"
      ],
      "metadata": {
        "colab": {
          "base_uri": "https://localhost:8080/"
        },
        "id": "Ku95w_LmawUB",
        "outputId": "b37aeec4-e5e3-482b-ea11-db72e50849b4"
      },
      "execution_count": null,
      "outputs": [
        {
          "output_type": "stream",
          "name": "stdout",
          "text": [
            "Found existing installation: pycryptodome 3.20.0\n",
            "Uninstalling pycryptodome-3.20.0:\n",
            "  Would remove:\n",
            "    /usr/local/lib/python3.10/dist-packages/Crypto/*\n",
            "    /usr/local/lib/python3.10/dist-packages/pycryptodome-3.20.0.dist-info/*\n",
            "Proceed (Y/n)? Y\n",
            "  Successfully uninstalled pycryptodome-3.20.0\n"
          ]
        }
      ]
    },
    {
      "cell_type": "code",
      "source": [
        "pdfreader = Pdf.open('/content/NEA11_FS.pdf')\n",
        "len(pdfreader.pages)"
      ],
      "metadata": {
        "colab": {
          "base_uri": "https://localhost:8080/"
        },
        "id": "exSs-cANZw3Q",
        "outputId": "cd6dd6ec-788b-4cca-9e8b-a0820578579d"
      },
      "execution_count": null,
      "outputs": [
        {
          "output_type": "execute_result",
          "data": {
            "text/plain": [
              "14"
            ]
          },
          "metadata": {},
          "execution_count": 17
        }
      ]
    },
    {
      "cell_type": "code",
      "source": [
        "len(doc)"
      ],
      "metadata": {
        "colab": {
          "base_uri": "https://localhost:8080/"
        },
        "id": "m1NG4MFTcXDf",
        "outputId": "ebc7ec6e-fabd-4f97-efc0-4f24e6f152f8"
      },
      "execution_count": null,
      "outputs": [
        {
          "output_type": "execute_result",
          "data": {
            "text/plain": [
              "14"
            ]
          },
          "metadata": {},
          "execution_count": 36
        }
      ]
    },
    {
      "cell_type": "code",
      "source": [
        "for i , page in enumerate(doc):\n",
        "  print(page)"
      ],
      "metadata": {
        "colab": {
          "base_uri": "https://localhost:8080/"
        },
        "id": "uWV3aQVFcb2T",
        "outputId": "e31143d1-b1e0-4133-ba92-58c6a94dd5cf"
      },
      "execution_count": null,
      "outputs": [
        {
          "output_type": "stream",
          "name": "stdout",
          "text": [
            "page 0 of /content/NEA11_FS.pdf\n",
            "page 1 of /content/NEA11_FS.pdf\n",
            "page 2 of /content/NEA11_FS.pdf\n",
            "page 3 of /content/NEA11_FS.pdf\n",
            "page 4 of /content/NEA11_FS.pdf\n",
            "page 5 of /content/NEA11_FS.pdf\n",
            "page 6 of /content/NEA11_FS.pdf\n",
            "page 7 of /content/NEA11_FS.pdf\n",
            "page 8 of /content/NEA11_FS.pdf\n",
            "page 9 of /content/NEA11_FS.pdf\n",
            "page 10 of /content/NEA11_FS.pdf\n",
            "page 11 of /content/NEA11_FS.pdf\n",
            "page 12 of /content/NEA11_FS.pdf\n",
            "page 13 of /content/NEA11_FS.pdf\n"
          ]
        }
      ]
    },
    {
      "cell_type": "code",
      "source": [
        "from typing_extensions import Concatenate\n",
        "raw_text = ''\n",
        "for i, page in enumerate(doc):\n",
        "  content = page.get_text()\n",
        "  if content:\n",
        "    raw_text += content"
      ],
      "metadata": {
        "id": "ezZ6V_JkaQXl"
      },
      "execution_count": null,
      "outputs": []
    },
    {
      "cell_type": "code",
      "source": [
        "raw_text"
      ],
      "metadata": {
        "colab": {
          "base_uri": "https://localhost:8080/",
          "height": 243
        },
        "id": "vabeXuOdcotP",
        "outputId": "60ab73a2-3455-49af-9823-79f91df0dfc1"
      },
      "execution_count": null,
      "outputs": [
        {
          "output_type": "execute_result",
          "data": {
            "text/plain": [
              "'THIRD QUARTER REPORT\\nSEPTEMBER 30, 2023\\nNEW ENTERPRISE ASSOCIATES 11, \\nLIMITED PARTNERSHIP\\nThe pages found within this report, whether or not marked \"Proprietary and Confidential / Trade Secrets\", contain highly\\nconfidential information, including trade secret, commercial and financial information regarding New Enterprise Associates\\' \\ninvestment partnership (the \"NEA Partnership\") and the business, operations and financial condition of its respective\\nportfolio companies (the \"Portfolio Companies\").\\nThe information found within this report is for use only by our limited\\npartners and shall be maintained in strict confidence. Any disclosure of this information could cause competitive harm to\\nNew Enterprise Associates, the NEA Partnership, and its Portfolio Companies.\\nBy reading the information found within\\nthis report, each limited partner agrees that this information (i) shall be used by such limited partner solely in furtherance\\nof its interests as a limited partner and shall not be used by such limited partner for any other purposes, (ii) shall not,\\nwithout the prior express written consent of a general partner at New Enterprise Associates, be reproduced in any manner\\nfor, or disclosed to, any other person, and (iii) shall be retained for only so long as is necessary.\\nProprietary and Confidential / Trade Secrets\\nNovember 14, 2023 \\nTO OUR LIMITED PARTNERS: \\nThe General Partner is pleased to provide the current quarter’s report for New Enterprise Associates 11, Limited \\nPartnership (“NEA 11” or the “Partnership”).  \\nSupplemental schedules are provided to the limited partners as a separate reporting package on the NEA LP Portal. \\nLimited partners can access the NEA LP Portal at https://portal.nea.com/.\\u202f  \\nFUND OVERVIEW \\nThe table below summarizes key measures of the Partnership as of the current quarter and the most recent prior \\nreporting periods.     \\nTotal Value is the sum of all distributions (cash and in-kind) and the Net Assets of the Partnership.  Net Cash is the sum of all balance \\nsheet accounts excluding Portfolio Investments.  Contributed Capital includes all capital contributions except deemed contributions by \\nthe General Partner.  Fund Multiple is the ratio of Total Value to Contributed Capital (excluding deemed contributions by the General \\nPartner).  LP Multiple is the ratio of the limited partners’ Total Value to the limited partners’ Contributed Capital.  Fund IRR and LP IRR, \\nare based on the quarterly net cash flows of the Partnership and the limited partners (in aggregate), respectively.  LP Cumulative \\nManagement Fees are the historical management fees as allocated monthly to the limited partners’ capital accounts.  LP Cumulative \\nDistributions are the aggregate cash and in-kind distributions to the limited partners, valued in accordance with the Partnership \\nAgreement. Number of Portfolio Investments is the Partnership’s total portfolio company investments and contractual rights to \\npayments. \\nNEA 11 SUMMARY RESULTS\\n($ Millions)\\n12/20\\n12/21\\n12/22\\n3/23\\n6/23\\n9/23\\nDistributions to Date\\n3,562.0\\n$ \\n3,562.0\\n$ \\n3,562.0\\n$ \\n3,562.0\\n$ \\n3,562.0\\n$ \\n3,562.0\\n$ \\nPrivate Companies Value\\n153.5\\n      \\n186.8\\n      \\n101.1\\n      \\n77.8\\n        \\n53.2\\n        \\n51.7\\n        \\nContractual Rights to Payments Value\\n4.1\\n          \\n4.4\\n          \\n7.7\\n          \\n8.1\\n  \\n8.1\\n          \\n17.0\\n        \\nNet Cash\\n21.5\\n        \\n22.5\\n        \\n17.4\\n        \\n16.3\\n        \\n15.4\\n        \\n17.0\\n        \\nTotal Value\\n3,741.1\\n$ \\n3,775.7\\n$ \\n3,688.2\\n$ \\n3,664.2\\n$ \\n3,638.7\\n$ \\n3,647.7\\n$ \\nContributed Capital\\n1,103.2\\n$ \\n1,103.2\\n$ \\n1,103.2\\n$ \\n1,103.2\\n$ \\n1,103.2\\n$ \\n1,103.2\\n$ \\nDeemed Contributed Capital\\n7.9\\n$        \\n7.9\\n$        \\n7.9\\n$        \\n7.9\\n$        \\n7.9\\n$        \\n7.9\\n$        \\nCommitted Capital\\n1,111.1\\n$ \\n1,111.1\\n$ \\n1,111.1\\n$ \\n1,111.1\\n$ \\n1,111.1\\n$ \\n1,111.1\\n$ \\nFund Multiple\\n3.4X\\n3.4X\\n3.3X\\n3.3X\\n3.3X\\n3.3X\\nLP Multiple\\n2.7X\\n2.7X\\n2.6X\\n2.6X\\n2.6X\\n2.6X\\nFund IRR\\n19.0%\\n19.1%\\n18.9%\\n18.9%\\n18.9%\\n18.9%\\nLP IRR\\n15.7%\\n15.7%\\n15.6%\\n15.5%\\n15.5%\\n15.5%\\n# Portfolio Investments\\n8 \\n5 \\n5 \\n5\\n     \\n5 \\n5 \\nLP Cumulative Management Fees\\n73.6\\n$      \\n73.6\\n$      \\n73.6\\n$      \\n73.6\\n$      \\n73.6\\n$      \\n73.6\\n$      \\nLP Cumulative Distributions\\n2,798.4\\n$ \\n2,798.4\\n$ \\n2,798.4\\n$ \\n2,798.4\\n$ \\n2,798.4\\n$ \\n2,798.4\\n$ \\nProprietary and Confidential / Trade Secrets\\n1\\nNew Enterprise Associates 11, Limited Partnership \\nNovember 14, 2023\\nDISTRIBUTIONS \\nDuring the quarter, the Partnership did not make distributions to its partners. \\nPORTFOLIO EXITS AND LIQUIDITY  \\nOn September 27, the Partnership received $2.9 million in cash from its partnership investment in Northern Light \\nStrategic Fund, L.P. \\nPlease refer to the Supplemental Schedule of Net Realized Gain or Loss on Portfolio Investments provided in \\nthe supplemental reporting information available on the NEA LP Portal for detail of the year-to-date activity. \\nINVESTING ACTIVITY  \\nDuring the quarter, the Partnership made additional investments in existing portfolio companies.  \\nPlease refer to the Supplemental Schedule of Investment Activity provided in the supplemental reporting \\ninformation available on the NEA LP Portal for detail of the year-to-date investing activity of the Partnership.    \\nVALUATION OF INVESTMENTS \\nThe fair value of the Partnership’s investments was determined by the General Partner in accordance with the \\nPartnership’s valuation policy and approved by the Board of Advisors. \\nPlease refer to the Supplemental Schedule of Portfolio Activity at Fair Value provided in the supplemental \\nreporting information available on the NEA LP Portal for the year-to-date changes in the fair value of the Partnership’s \\ninvestments. \\nCAPITAL CONTRIBUTIONS \\nThe Partnership has called 100% of the committed capital in prior years. \\nOTHER MATTERS \\nThe Partnership has entered dissolution and the General Partner continues to work with the remaining portfolio \\ncompanies to achieve additional liquidity for our partners.  The General Partner also considers other options from time \\nto time to achieve liquidity, including, but not limited to, sales of all or a portion of the Partnership’s holdings to existing \\nco-investors or other unaffiliated third parties.    \\nProprietary and Confidential / Trade Secrets\\n2\\nPortfolio investments at fair value:\\nPrivately-held companies (cost $122,651,202)\\n51,680,641\\n$          \\nContractual rights to payments (cost $--)\\n           16,953,220\\nTotal portfolio investments (cost $122,651,202)\\n           68,633,861\\nCash and cash equivalents\\n           17,606,731\\nInterest receivable\\n             1,196,464\\nOther receivables\\n75,025\\n                  \\nPrepaid expenses\\n3,119\\n                    \\n Total assets\\n87,515,200\\n           \\nAccounts payable to NEA Management\\n                     (809)\\nAccrued expenses and other liabilities\\n(1,756,607)\\n            \\n Total liabilities\\n(1,757,416)\\n            \\nNet assets\\n85,757,784\\n$          \\nContributed capital\\n1,103,160,007\\n$     \\nAccumulated net investment income (loss)\\n          (71,902,999)\\nNet realized gain (loss) on portfolio investments\\n1,382,224,466\\n       \\nNet deemed gain (loss) on distributions to partners\\n1,288,249,264\\n       \\nNet unrealized appreciation (depreciation) of investments\\n          (54,017,341)\\nResults from operations\\n2,544,553,390\\n       \\nDistributions of portfolio investments to partners\\n(1,531,346,479)\\n      \\nCash distributions to partners\\n(2,030,609,134)\\n      \\nTotal distributions\\n(3,561,955,613)\\n      \\nNet assets represented by partners\\' capital\\n85,757,784\\n$          \\nNew Enterprise Associates 11, Limited Partnership\\n(a Delaware limited partnership)\\nStatement of Assets and Liabilities\\nSeptember 30, 2023\\nASSETS\\nLIABILITIES\\nNET ASSETS REPRESENTED BY PARTNERS\\' CAPITAL\\nProprietary and Confidential / Trade Secrets\\n3\\nInvestment income:\\nInterest and dividend income\\n915,308\\n$\\n \\nExpenses:\\nProfessional fees\\n(48,835)\\n \\nCustodian and miscellaneous fees\\n(13,389)\\n \\nTotal expenses\\n(62,224)\\n \\nNet investment income (loss)\\n853,084\\n \\nRealized and unrealized gain (loss) on investments\\nNet realized gain (loss) on portfolio investments\\n 2,862,454\\nNet change in unrealized appreciation (depreciation) of investments\\n          (44,204,818)\\nNet realized and unrealized gain (loss) on investments\\n(41,342,364)\\n          \\nNet increase (decrease) in partners\\' capital resulting from operations\\n(40,489,280)\\n$        \\nIncrease (decrease) in net assets resulting from operations:\\nNet investment income (loss)\\n853,084\\n$\\n \\nNet realized gain (loss) on portfolio investments\\n 2,862,454\\nNet change in unrealized appreciation (depreciation) of investments\\n          (44,204,818)\\nNet increase (decrease) in net assets resulting from operations\\n(40,489,280)\\n          \\nTotal increase (decrease) in net assets\\n(40,489,280)\\n          \\nNet assets at beginning of period\\n126,247,064\\n          \\nNet assets at end of period\\n85,757,784\\n$          \\nStatement of Changes in Net Assets\\nfor the nine months ended September 30, 2023\\nNew Enterprise Associates 11, Limited Partnership\\n(a Delaware limited partnership)\\nStatement of Operations\\nfor the nine months ended September 30, 2023\\nProprietary and Confidential / Trade Secrets\\n4\\n(a Delaware limited partnership)\\nStatement of Changes in Partners\\' Capital\\nfor the nine months ended September 30, 2023\\nGeneral\\nLimited\\nPartner\\nPartners\\nTotal\\nBalance December 31, 2022\\n38,757,991\\n$          \\n87,489,073\\n$          \\n126,247,064\\n$        \\nAllocation of results from operations\\nbefore incentive allocation\\n(404,893)\\n \\n          (40,084,387)\\n          (40,489,280)\\nIncentive allocation (reversal)\\n          (12,025,316)\\n 12,025,316\\n--\\n \\nBalance September 30, 2023\\n26,327,782\\n$          \\n59,430,002\\n$          \\n85,757,784\\n$          \\nNew Enterprise Associates 11, Limited Partnership\\nProprietary and Confidential / Trade Secrets\\n5\\nNew Enterprise Associates 11, Limited Partnership\\n(a Delaware limited partnership)\\nStatement of Cash Flows\\nfor the nine months ended September 30, 2023\\nNet increase (decrease) in partners\\' capital resulting from operations\\n(40,489,280)\\n$        \\nAdjustments to reconcile net increase (decrease) in partners\\' capital resulting from operations to net cash \\nprovided by (used in) operating activities:\\nPurchases of portfolio investments\\n(3,950,000)\\n \\nProceeds from sale of portfolio investments\\n 2,862,454\\nNet realized (gain) loss on portfolio investments\\n(2,862,454)\\n \\nNet change in unrealized (appreciation) depreciation of investments\\n 44,204,818\\nChanges in operating assets and liabilities:\\nDecrease (increase) in interest receivable\\n(588,855)\\n \\nDecrease (increase) in other receivables\\n(43,784)\\n \\nDecrease (increase) in prepaid expenses\\n (940)\\nIncrease (decrease) in accounts payable to NEA Management\\n809\\n \\nIncrease (decrease) in accrued expenses and other liabilities\\n (5,102)\\nTotal adjustments\\n39,616,946\\n \\nNet cash provided by (used in) operating activities\\n(872,334)\\n \\nNet increase (decrease) in cash and cash equivalents\\n(872,334)\\n \\nCash and cash equivalents at beginning of period\\n 18,479,065\\nCash and cash equivalents at end of period\\n17,606,731\\n$          \\nProprietary and Confidential / Trade Secrets\\n6\\nAvailink, Inc.\\nSeries D2 Preference Shares\\n24,000,000\\n960,000,000 $\\n784,725 $\\n3,734,131 $\\n2,949,406\\nNorthern Light Strategic Fund, L.P.\\nPartnership Interest\\n0\\n$\\n--\\n \\n--\\n \\n2,828,636  \\n2,828,636\\nSentons, Inc.\\nNon-voting Ordinary Shares\\n1,540,453\\n1,540,453  \\n68,719  \\n--\\n \\n( 68,719)\\nSeries A Preference Shares\\n2,857,960\\n3,232,559  \\n2,000,000  \\n--\\n \\n( 2,000,000)\\nSeries B Preference Shares\\n7,566,205\\n8,805,259  \\n6,000,001  \\n--\\n \\n( 6,000,001)\\nSeries C-1 Preference Shares\\n41,662,607\\n52,998,091  \\n53,093,405  \\n--\\n \\n( 53,093,405)\\nSeries D Preference Shares\\n36,374,041\\n36,374,041  \\n15,151,233  \\n--\\n \\n( 15,151,233)\\nTotal Equity\\n102,950,403\\n76,313,358\\n--\\n( 76,313,358)\\nNote\\n     6.000%\\n12/31/23\\n$ 14,650,000\\n--\\n \\n14,650,000  \\n5,894,887  \\n( 8,755,113)\\nTotal Investment\\n102,950,403\\n90,963,358\\n5,894,887\\n( 85,068,471)\\nTAE Technologies, Inc.\\nRight to Purchase Capital Stock in Subsidiary\\n1\\n1  \\n2,500  \\n2,500  \\n--\\nSeries C Preferred Stock\\n411,100\\n411,100  \\n4,111,000  \\n12,564,910  \\n8,453,910\\nSeries C-2 Preferred Stock\\n165,664\\n165,664  \\n2,070,800  \\n5,063,374  \\n2,992,574\\nSeries D Preferred Stock\\n200,000\\n200,000  \\n3,749,994  \\n6,112,824  \\n2,362,830\\nSeries D-2 Preferred Stock\\n200,000\\n200,000  \\n5,000,000  \\n6,112,824  \\n1,112,824\\nSeries E Preferred Stock\\n50,482\\n50,609  \\n2,019,280  \\n1,546,795  \\n( 472,485)\\nSeries F Preferred Stock\\n176,800\\n177,368  \\n9,452,000  \\n5,421,028  \\n( 4,030,972)\\nSeries G Preferred Stock\\n57,693\\n57,693  \\n3,750,045  \\n1,763,336  \\n( 1,986,709)\\nSeries G-2 Preferred Stock\\n2,500\\n2,500  \\n242,233  \\n76,410  \\n( 165,823)\\nSimple Agreement for Future Equity\\n1\\n1  \\n497,500  \\n497,500  \\n--\\nTotal Equity\\n1,264,936\\n30,895,352\\n39,161,501\\n8,266,149\\nWarrant for Series E Preferred Stock\\n$    40.000\\n1,766\\n1,770  \\n--\\n \\n13,889  \\n13,889\\nWarrant for Series E Preferred Stock\\n$    40.000\\n6,000\\n6,015  \\n--\\n \\n47,197  \\n47,197\\nWarrant for Series G-2 Preferred Stock\\n$   100.000\\n2/08/31\\n250\\n250  \\n7,767  \\n400  \\n( 7,367)\\nTotal Warrant\\n8,035\\n7,767\\n61,486\\n53,719\\nTotal Investment\\n1,272,971\\n30,903,119\\n39,222,987\\n8,319,868\\n4  Total Privately-Held Companies\\n$\\n122,651,202 $\\n51,680,641 $\\n( 70,970,561)\\nNew Enterprise Associates 11, Limited Partnership\\n(a Delaware limited partnership)\\nSchedule of Portfolio Investments in Privately-Held Companies\\nSeptember 30, 2023\\nMaturity/\\nCommon\\nUnrealized\\nInt. Rate/\\nExpiration\\nShares/\\nShare\\nAppreciation\\nPortfolio Investment\\nEx. Price\\nDates\\nPrincipal\\nEquivalent\\nCost\\nFair Value\\n(Depreciation)\\nProprietary and Confidential / Trade Secrets\\n7\\nParagon Biosciences Emalex Capital, Inc.\\nContractual rights to payments (Psyadon\\nPharmaceuticals, Inc. acquisition)\\n--\\n$\\n--\\n$\\n16,953,220 $\\n16,953,220\\n1  Total Contractual Rights to Payments\\n--\\n$\\n16,953,220 $\\n16,953,220\\n5  Total Portfolio Investments\\n$\\n122,651,202 $\\n68,633,861 $\\n( 54,017,341)\\nNew Enterprise Associates 11, Limited Partnership\\n(a Delaware limited partnership)\\nSchedule of Portfolio Investments - Contractual Rights to Payments\\nSeptember 30, 2023\\nMaturity/\\nCommon\\nUnrealized\\nInt. Rate/\\nExpiration\\nShares/\\nShare\\nAppreciation\\nPortfolio Investment\\nEx. Price\\nDates\\nPrincipal\\nEquivalent\\nCost\\nFair Value\\n(Depreciation)\\nProprietary and Confidential / Trade Secrets\\n8\\nNew Enterprise Associates 11, Limited Partnership \\n(a Delaware limited partnership) \\nNotes to Financial Statements \\nSeptember 30, 2023 \\n(1)\\nRecent Accounting Pronouncements\\nThe Partnership considers the applicability and impact of all accounting standard updates (“ASU”) issued by the\\nFinancial Accounting Standards Board (“FASB”). ASUs not listed below were assessed and either determined to be\\nnot applicable or are expected to have minimal impact on the Fund’s financial statements.\\nIn June 2022, the FASB issued ASU 2022-03, Fair Value Measurement of Equity Securities Subject to Contractual\\nSale Restrictions. ASU 2022-03 is intended to (1) clarify guidance in Accounting Standards Codification Topic 820\\nwhen measuring fair value of an equity security subject to contractual restrictions that prohibit the sale of an equity\\nsecurity, (2) amend the related illustrative example disclosure, and (3) introduce new disclosure requirements for\\nequity securities subject to contractual sale restrictions that are measured at fair value. Specifically, the\\namendments clarify that a contractual restriction on the sale of an equity security is not considered part of the unit\\nof account of the equity security and, therefore, is not considered in measuring fair value. The amendments also\\nclarify that an entity cannot recognize and measure a contractual sale restriction as a separate unit of account on\\nthe balance sheet. The amendments will be applied on a prospective basis and are effective for fiscal years beginning\\nafter December 15, 2024, with early adoption permitted. The Partnership is currently evaluating the impact of this\\nguidance on the financial statements.\\n(2)\\nValuation of Investments\\nFair Value – Hierarchy of fair value\\nIn accordance with the authoritative guidance on fair value measurements and disclosures under U.S. generally\\naccepted accounting principles, the Partnership discloses and recognizes the fair value of its assets and liabilities\\nusing a hierarchy that prioritizes the inputs to valuation techniques used to measure fair value. The hierarchy gives\\nthe highest priority to valuations based upon unadjusted quoted prices in active markets for identical assets or\\nliabilities (Level 1 measurements) and the lowest priority to valuations based upon unobservable inputs that are\\nsignificant to the valuation (Level 3 measurements). The guidance establishes three levels of the fair value hierarchy\\nas follows:\\nLevel 1: \\nInputs that reflect unadjusted quoted prices in active markets for identical assets or liabilities that\\nthe Partnership has the ability to access at the measurement date.\\nLevel 2: \\nInputs other than quoted prices included in Level 1 that are observable for the asset or liability, \\neither directly or indirectly, including, but not limited to, inputs in the markets that are not \\nconsidered to be active. \\nLevel 3: \\nInputs that are unobservable for the asset or liability. \\nInvestments in investment partnerships or similar entities measured using net asset value as a practical expedient \\nare not categorized within the fair value hierarchy. \\nInputs are used in applying various valuation techniques and broadly refer to the assumptions that market \\nparticipants would use to make valuation decisions, including assumptions about risk. An investment\\'s level within \\nthe fair value hierarchy is based on the lowest level of any input that is significant to the fair value measurement. \\nHowever, the determination of what constitutes \"observable\" requires significant judgment by the General Partner. \\nThe General Partner considers observable data to be that market data which is readily available, regularly distributed \\nor updated, reliable and verifiable, not proprietary, provided by multiple, independent sources that are actively \\ninvolved in the relevant market.  \\nFair value – Valuation techniques and inputs \\nInvestments whose values are based on quoted market prices in active markets, and are therefore classified within \\nLevel 1, generally include active listed securities. The General Partner does not adjust the quoted price for such \\ninstruments even in situations where the Partnership holds a large position, and a sale could reasonably impact the \\nquoted price. Common equity securities that are traded on a national securities exchange are stated at the last \\nreported sales price on the date of valuation.  \\nProprietary and Confidential / Trade Secrets\\n9\\nNew Enterprise Associates 11, Limited Partnership \\n(a Delaware limited partnership) \\nNotes to Financial Statements \\nSeptember 30, 2023 \\nInvestments may be classified as Level 2 when market information is available, yet the investment is not traded in \\nan active market or the investment is subject to transfer restrictions, or the valuation is adjusted to reflect illiquidity \\nor non-transferability. \\nInvestments are classified as Level 3 when their valuation is based on unobservable inputs and they are traded \\ninfrequently or not at all. Level 3 investments may include common and preferred equity securities, debt \\ninstruments, warrants, equity securities held in escrow, contractual rights to payments, and other privately issued \\nsecurities. When observable prices are not available for these securities or identical assets, the General Partner uses \\none or more valuation techniques for which sufficient and reliable data is available. The selection of appropriate \\nvaluation techniques may be affected by the availability of relevant inputs as well as the relative reliability of the \\ninputs. In some cases, one valuation technique may provide the best indication of fair value, while in other \\ncircumstances multiple valuation techniques may be appropriate. The results of the application of the various \\ntechniques may not be equally representative of fair value, due to factors such as assumptions made in the \\nvaluation. When multiple valuation techniques are used, the General Partner evaluates the reasonableness of the \\nrange of possible values. In these situations, the fair value measurement is based on the General Partner\\'s \\nassessment of the most representative point within the range. \\nThe inputs considered by the General Partner in estimating the fair value of Level 3 investments include the original \\ntransaction prices, recent transactions in the same or similar investments, completed or pending third-party \\ntransactions in the portfolio company or comparable issuers, subsequent rounds of financings, recapitalizations and \\nother transactions undertaken by the issuer, and offerings in the equity or debt capital markets (collectively, \\n“relevant transactions”). Significant unobservable inputs may also include performance multiples, expected returns, \\nprobability of milestone achievement, exit timing, and discount rates in the absence of relevant transactions. Level \\n3 investments may be adjusted to reflect the participation of a strategic corporate investor or execution risk on a \\npending transaction or illiquidity and non-transferability, with the amount of such discount estimated by the General \\nPartner in the absence of specific market information. The fair value measurement of Level 3 investments does not \\ninclude transaction costs that may have been capitalized as part of the security’s cost basis. Assumptions used by \\nthe General Partner due to the lack of observable inputs may significantly impact the resulting fair value \\nmeasurements and, by extension, the Partnership’s results of operations. Reductions of fair value may be made for \\nestimated withholding taxes on applicable instruments, reflecting the expected reduction of proceeds or potential \\npayment obligation related to such taxes.  \\nThe Partnership recognizes contractual rights to payments from the disposition of the Partnership’s investments as \\na financial asset measured at fair value. The fair value is measured using a probability-adjusted discounted cash \\nflow analysis.   \\nThe General Partner values private investment partnerships and similar entities using the net asset value or capital \\nbalance reported by the investment partnership or similar entity as a practical expedient. Adjustments to the \\nreported net asset value or capital balance may be made based on various factors, including, but not limited to, \\nattributes of the interest held, including rights and obligations, and any restrictions or illiquidity on such interests, \\nand the fair value of the investment partnership or similar entity’s portfolio or other assets and liabilities.  \\nAlthough the General Partner believes its valuation methods are appropriate and consistent with those used by other \\nmarket participants, the use of different methodologies or assumptions to determine the fair value of certain financial \\ninstruments could result in a different estimate of fair value at the reporting date. Estimated values may differ \\nsignificantly from values that may otherwise have been determined had a readily available market for such \\ninstruments existed, or had such instruments been liquidated. These differences could be material to the financial \\nstatements. \\nProprietary and Confidential / Trade Secrets\\n10\\nNew Enterprise Associates 11, Limited Partnership \\n(a Delaware limited partnership) \\nNotes to Financial Statements \\nSeptember 30, 2023 \\nFair Value Measurements \\nThe following table presents information about the Partnership’s investments included in the Statement of Assets \\nand Liabilities as of September 30, 2023: \\nLevel 1 \\nLevel 2 \\nLevel 3 \\nTotal \\nDebt Securities \\n$ \\n-- \\n$ \\n-- \\n$ \\n5,894,887 \\n$ \\n5,894,887 \\nEquity Securities: \\nTechnology \\n-- \\n-- \\n42,957,118 \\n42,957,118 \\nContractual rights to \\npayments \\n-- \\n-- \\n16,953,220 \\n16,953,220 \\nCash Equivalents \\n10,200,756 \\n-- \\n-- \\n10,200,756 \\nTotal \\n$ \\n10,200,756 \\n$ \\n-- \\n$ \\n65,805,225 \\n$ \\n76,005,981 \\nInvestments measured at net asset value \\n2,828,636 \\nTotal Fair Value Measurements \\n$ \\n78,834,617 \\nThe following table presents the purchases and transfers into or out of Level 3 during the period ended September \\n30, 2023:  \\nPurchases  \\nof Level 3 Assets \\nTransfers \\ninto Level 3 \\nTransfers \\nout of Level 3 \\nDebt Securities \\n$ \\n3,450,000 \\n$ \\n-- \\n$ \\n-- \\nEquity Securities: \\nTechnology \\n500,000 \\n-- \\n-- \\n$ \\n3,950,000 \\n$ \\n-- \\n$ \\n-- \\nThe following table summarizes the valuation techniques and significant unobservable inputs used for investments \\ncategorized in Level 3 of the fair value hierarchy as of September 30, 2023: \\nAsset \\nValuation Technique \\nUnobservable Inputs \\nRange \\nDebt Securities \\nRelevant transactions \\nN/A \\nN/A \\nDiscount for lack of collectability \\n59.8% \\nEquity Securities \\nRelevant transactions \\nN/A \\nN/A \\nTechnology \\nComparable companies \\nRevenue multiple \\n0.3x \\nOption pricing model \\nTerm to expiration \\n2.0 to 2.5 years \\nVolatility \\n40.0% to 50.0% \\nRisk-free rate \\n2.9% to 4.7% \\nDividend yield \\n0.0% \\nContractual rights to \\npayments \\nProbability-adjusted \\ndiscounted cash flow \\nProbability of milestone achievement \\n5.0% to 53.1% \\nDiscount rate \\n15.3% to 50.0% \\n(3)\\nCash and Cash Equivalents\\nCash is carried at cost, which approximates market value. The Partnership considers high quality investments with\\nan original maturity, to the Partnership, of three months or less to be cash equivalents. Cash equivalents are\\nclassified as either a Level 1 or Level 2 investment based on the characteristics of the underlying investment.\\nSubstantially all of the Partnership’s cash is maintained at a single major U.S. financial institution. Deposits held\\nwith the bank may exceed the amount of insurance provided on such deposits. Generally, these deposits may be\\nredeemed upon demand and, therefore, are believed to bear minimal risk.\\nProprietary and Confidential / Trade Secrets\\n11\\nNew Enterprise Associates 11, Limited Partnership \\n(a Delaware limited partnership) \\nNotes to Financial Statements \\nSeptember 30, 2023 \\n(4)\\nDividend and Interest Income\\nDividend income is recognized on the ex-dividend date, otherwise when the Partnership’s right to receive payment\\nis established.\\nInterest income, including accretion of discounts, is recorded on an accrual basis. Discounts on securities purchased\\nare amortized over the life of the respective securities. When interest is determined to not be recoverable, the\\nPartnership may cease accruing all or a portion of interest and record a reserve on uncollectable previously accrued\\ninterest as a reduction of interest income in the current period. These write-offs are reversed through interest\\nincome. During the period ended September 30, 2023, the Partnership recorded the following:\\n(5)\\nDistributions and Allocations\\nTo the extent that the Partnership has a Net Realized Gain as defined in the Partnership Agreement (including\\ndeemed gains on distributions in-kind to the partners) for any calendar year, that Net Realized Gain shall be specially\\nallocated to the capital account of the General Partner until the aggregate amount specially allocated equals the\\naggregate amount by which management fees have been reduced since inception of the Partnership as a result of\\ndeemed contributions made by the General Partner. Additionally, since the Partnership’s allocations are prepared\\nassuming a hypothetical liquidation of the Partnership’s assets at their fair market value, cumulative unrealized\\nappreciation may also be specially allocated to (deducted from) the General Partner. Special allocations of Net\\nRealized Gains for deemed contributions are reflected as a component of Allocation of results from operations before\\nincentive allocation in the Statements of Changes in Partners’ Capital.\\nIncentive allocations, including the effect of net unrealized appreciation (depreciation) of investments based upon\\nthe assumption of a hypothetical liquidation of the Partnership’s assets at their fair market value, and carried interest\\npayments as of and for the period ended September 30, 2023, are presented below:\\n(6)\\nRelated Party Transactions\\nThe Partnership reimburses NEA Management Company, LLC and its affiliates (collectively “NEA Management”) for\\nnon-management fee-related expenses and costs paid by NEA Management to non-affiliated parties on the\\nPartnership’s behalf. Substantially all of the Partnership’s Professional fees and Custodian and miscellaneous fees\\nare initially paid through this arrangement and reimbursed to NEA Management by the Partnership. The balance in\\nAccounts payable to NEA Management in the Statement of Assets and Liabilities represents amounts to be\\nreimbursed by the Partnership to NEA Management as of September 30, 2023.\\nCertain partners of the General Partner of the Partnership are stockholders, officers or employees of NEA\\nManagement and have interests in other entities associated with NEA Management.\\n(7)\\nCapital Commitments\\nPromissory note interest \\n$ \\n588,855 \\nInception to date incentive allocations at beginning of year \\n$ \\n765,396,196 \\nCurrent incentive allocation (reversal) to General Partner \\n(12,025,316) \\nInception to date incentive allocations at end of period \\n$ \\n753,370,880 \\nCarried interest paid since inception at beginning of year \\n$ \\n 727,900,675 \\nCurrent carried interest paid \\n-- \\nCarried interest paid since inception at end of period \\n$ \\n 727,900,675 \\nCapital commitments \\n$ \\n1,111,111,111 \\nContributed capital (including deemed capital contributions) \\n1,111,111,111 \\nUncalled capital commitments to date \\n$ \\n-- \\nPercent of capital commitments called to date \\n100.00% \\nProprietary and Confidential / Trade Secrets\\n12\\nNew Enterprise Associates 11, Limited Partnership \\n(a Delaware limited partnership) \\nNotes to Financial Statements\\xa0\\nSeptember 30, 2023 \\n(8)\\nContributions by the General Partner\\nThe Partnership Agreement provides that for each capital contribution that would otherwise be due from the General\\nPartner with respect to its 1% subscription, at least 25% of such amount shall be payable in a combination of cash\\nand promissory notes and up to 75% of such amount shall be deemed to have been contributed by the General\\nPartner.\\nBoth the General Partner’s actual capital contributions and deemed capital contributions increase the General\\nPartner’s contributions account and decrease the amount to be paid with respect to its subscription. However, only\\ncapital contributions paid in cash (and principal repayments on promissory notes contributed by the General Partner)\\nincrease the General Partner’s capital account.\\nAs of December 31, 2015, there were no further deemed contributions to be made by the General Partner. The\\namounts presented below reflect the final cumulative balances of the General Partner’s deemed contributions, Net\\nRealized Gain allocations and reductions of the management fees charged to the Partnership.\\n(9)\\nCommitments and Contingencies\\nFrom time to time, the Partnership may guarantee the performance of its portfolio companies under debt\\narrangements. In the aggregate, the Partnership may enter into guarantees or agree to become liable with respect\\nto the indebtedness of existing or prospective portfolio companies of up to 10% of the partners\\' aggregate\\nsubscriptions. Additionally, at any time, aggregated guarantees in excess of $10,000,000 require the approval of\\nthe Board of Advisors. The Partnership records the fair value of guarantees under which it is obligated. As of\\nSeptember 30, 2023, there were no material guarantees.\\nFrom time to time, the Partnership and its General Partner (including its partners, employees, agents, and the\\nemployees of NEA Management) may be a subject to or party to legal proceedings in the ordinary course of the\\nPartnership’s business. Under the Partnership Agreement, the Partnership has agreed to provide indemnification to\\nsuch persons pursuant to the terms and conditions described therein.\\n(10)\\nPortfolio Company Financial Support\\nIn addition to investing in securities of portfolio companies, the Partnership may also provide financial support to\\nits portfolio companies. Financial support are payments made directly to or on behalf of portfolio companies which\\nare not security purchase transactions and are not reimbursable by the respective portfolio company. Financial\\nsupport may or may not be evidenced by a contract. During the\\xa0period ended September 30, 2023, the Partnership\\ndid not make material payments for financial support to or for its portfolio companies. The Partnership may also be\\nrequired to perform in future periods under guarantees of its portfolio companies’ debt (see Note 9). The Partnership\\ndoes not have material contractual obligations to provide future financial support to its portfolio companies.\\n(11)\\nSubsequent Events\\nThe Partnership has evaluated subsequent events through November 14, 2023, the date the financial statements\\nwere available to be issued and has determined that there were no subsequent events that require disclosure.\\nCumulative deemed capital contributions \\n$ \\n7,951,104\\nCumulative deemed capital contributions reducing management fees \\n$ \\n7,951,104\\nCumulative Net Realized Gains specially allocated to the General Partner \\n$ \\n7,951,104\\nProprietary and Confidential / Trade Secrets\\n13\\n'"
            ],
            "application/vnd.google.colaboratory.intrinsic+json": {
              "type": "string"
            }
          },
          "metadata": {},
          "execution_count": 43
        }
      ]
    },
    {
      "cell_type": "code",
      "source": [
        "cassio.init(token= ASTRA_DB_APPLICATION_TOKEN, database_id = ASTRA_DB_ID)"
      ],
      "metadata": {
        "colab": {
          "base_uri": "https://localhost:8080/"
        },
        "id": "C-Xr8Ju-cuIo",
        "outputId": "bdd7b112-5f9d-40b1-af9e-95d4facc8a73"
      },
      "execution_count": null,
      "outputs": [
        {
          "output_type": "stream",
          "name": "stderr",
          "text": [
            "WARNING:cassandra.cluster:Downgrading core protocol version from 66 to 65 for f8d3e868-0046-4b4f-a0bd-3aec0edda63d-us-east1.db.astra.datastax.com:29042:da4b7bf4-d0da-4d63-9400-9ed0a495c23b. To avoid this, it is best practice to explicitly set Cluster(protocol_version) to the version supported by your cluster. http://datastax.github.io/python-driver/api/cassandra/cluster.html#cassandra.cluster.Cluster.protocol_version\n",
            "WARNING:cassandra.cluster:Downgrading core protocol version from 65 to 5 for f8d3e868-0046-4b4f-a0bd-3aec0edda63d-us-east1.db.astra.datastax.com:29042:da4b7bf4-d0da-4d63-9400-9ed0a495c23b. To avoid this, it is best practice to explicitly set Cluster(protocol_version) to the version supported by your cluster. http://datastax.github.io/python-driver/api/cassandra/cluster.html#cassandra.cluster.Cluster.protocol_version\n",
            "ERROR:cassandra.connection:Closing connection <AsyncoreConnection(137216662549744) f8d3e868-0046-4b4f-a0bd-3aec0edda63d-us-east1.db.astra.datastax.com:29042:da4b7bf4-d0da-4d63-9400-9ed0a495c23b> due to protocol error: Error from server: code=000a [Protocol error] message=\"Beta version of the protocol used (5/v5-beta), but USE_BETA flag is unset\"\n",
            "WARNING:cassandra.cluster:Downgrading core protocol version from 5 to 4 for f8d3e868-0046-4b4f-a0bd-3aec0edda63d-us-east1.db.astra.datastax.com:29042:da4b7bf4-d0da-4d63-9400-9ed0a495c23b. To avoid this, it is best practice to explicitly set Cluster(protocol_version) to the version supported by your cluster. http://datastax.github.io/python-driver/api/cassandra/cluster.html#cassandra.cluster.Cluster.protocol_version\n"
          ]
        }
      ]
    },
    {
      "cell_type": "code",
      "source": [
        "llm = OpenAI(openai_api_key = OPENAI_API_KEY)\n",
        "embedding = OpenAIEmbeddings(openai_api_key=OPENAI_API_KEY)"
      ],
      "metadata": {
        "id": "0ta2TgrWdTxc"
      },
      "execution_count": null,
      "outputs": []
    },
    {
      "cell_type": "code",
      "source": [
        "astra_vector_store = Cassandra(\n",
        "    embedding = embedding,\n",
        "    table_name = 'qa_mini_demo',\n",
        "    session=None,\n",
        "    keyspace=None,\n",
        ")"
      ],
      "metadata": {
        "id": "9GrIcuWIddqh"
      },
      "execution_count": null,
      "outputs": []
    },
    {
      "cell_type": "code",
      "source": [
        "from langchain.text_splitter import CharacterTextSplitter\n",
        "\n",
        "text_splitter = CharacterTextSplitter(\n",
        "    separator = '\\n',\n",
        "    chunk_size = 800,\n",
        "    chunk_overlap = 200,\n",
        "    length_function = len,\n",
        "\n",
        ")\n",
        "\n",
        "texts = text_splitter.split_text(raw_text)"
      ],
      "metadata": {
        "id": "uhXrwDfadntc"
      },
      "execution_count": null,
      "outputs": []
    },
    {
      "cell_type": "code",
      "source": [
        "# texts[:50]"
      ],
      "metadata": {
        "id": "iW-2Vd7bgX8W"
      },
      "execution_count": null,
      "outputs": []
    },
    {
      "cell_type": "code",
      "source": [
        "astra_vector_store.add_texts(texts[:50])\n",
        "print(\"Inserted %i headlines.\" % len(texts[:50]))\n",
        "astra_vector_index = VectorStoreIndexWrapper(vectorstore=astra_vector_store)"
      ],
      "metadata": {
        "colab": {
          "base_uri": "https://localhost:8080/"
        },
        "id": "UkUNZR7egcbX",
        "outputId": "46565d38-dda1-4b52-e117-7dd24bf9a274"
      },
      "execution_count": null,
      "outputs": [
        {
          "output_type": "stream",
          "name": "stdout",
          "text": [
            "Inserted 50 headlines.\n"
          ]
        }
      ]
    },
    {
      "cell_type": "code",
      "source": [
        "first_question = True\n",
        "while True:\n",
        "  if first_question:\n",
        "    query_text = input('\\n Enter your question or (type quit to exit):').strip()\n",
        "\n",
        "  else:\n",
        "    query_text = input('\\n Whats your next questions').strip()\n",
        "\n",
        "  if query_text.lower() == 'quit':\n",
        "    break\n",
        "\n",
        "  if query_text == '':\n",
        "    continue\n",
        "\n",
        "  first_question = False\n",
        "\n",
        "  print(\"\\nQUESTION: \\\"%s\\\"\" % query_text)\n",
        "  answer = astra_vector_index.query(query_text, llm=llm).strip()\n",
        "  print(\"ANSWER: \\\"%s\\\"\\n\" % answer)\n",
        "\n",
        "  print(\"FIRST DOCUMENTS BY REVELANCE\")\n",
        "  # for doc, score in astra_vector_store.similarity_search_with_score(query_text):\n",
        "  #   print(\"  [%0.4f] \\\"%s ... \\\"\" & (score, doc.page_content))\n",
        "\n"
      ],
      "metadata": {
        "colab": {
          "base_uri": "https://localhost:8080/",
          "height": 724
        },
        "id": "k4HtOGJrgwDV",
        "outputId": "d0c5aeef-87eb-45d4-f7c9-c58f4ebe6872"
      },
      "execution_count": null,
      "outputs": [
        {
          "output_type": "stream",
          "name": "stdout",
          "text": [
            "\n",
            " Enter your question or (type quit to exit):What is the name of the fund\n",
            "\n",
            "QUESTION: \"What is the name of the fund\"\n"
          ]
        },
        {
          "output_type": "stream",
          "name": "stderr",
          "text": [
            "WARNING:cassandra.protocol:Server warning: Top-K queries can only be run with consistency level ONE / LOCAL_ONE / NODE_LOCAL. Consistency level LOCAL_QUORUM was requested. Downgrading the consistency level to LOCAL_ONE.\n"
          ]
        },
        {
          "output_type": "stream",
          "name": "stdout",
          "text": [
            "ANSWER: \"NEA 11 or New Enterprise Associates 11\"\n",
            "\n",
            "FIRST DOCUMENTS BY REVELANCE\n",
            "\n",
            " Whats your next questionsWhat is the total sum of distribution\n",
            "\n",
            "QUESTION: \"What is the total sum of distribution\"\n"
          ]
        },
        {
          "output_type": "stream",
          "name": "stderr",
          "text": [
            "WARNING:cassandra.protocol:Server warning: Top-K queries can only be run with consistency level ONE / LOCAL_ONE / NODE_LOCAL. Consistency level LOCAL_QUORUM was requested. Downgrading the consistency level to LOCAL_ONE.\n"
          ]
        },
        {
          "output_type": "stream",
          "name": "stdout",
          "text": [
            "ANSWER: \"The total sum of distributions is (3,561,955,613) dollars.\"\n",
            "\n",
            "FIRST DOCUMENTS BY REVELANCE\n"
          ]
        },
        {
          "output_type": "error",
          "ename": "KeyboardInterrupt",
          "evalue": "Interrupted by user",
          "traceback": [
            "\u001b[0;31m---------------------------------------------------------------------------\u001b[0m",
            "\u001b[0;31mKeyboardInterrupt\u001b[0m                         Traceback (most recent call last)",
            "\u001b[0;32m<ipython-input-65-4cac5a559153>\u001b[0m in \u001b[0;36m<cell line: 2>\u001b[0;34m()\u001b[0m\n\u001b[1;32m      5\u001b[0m \u001b[0;34m\u001b[0m\u001b[0m\n\u001b[1;32m      6\u001b[0m   \u001b[0;32melse\u001b[0m\u001b[0;34m:\u001b[0m\u001b[0;34m\u001b[0m\u001b[0;34m\u001b[0m\u001b[0m\n\u001b[0;32m----> 7\u001b[0;31m     \u001b[0mquery_text\u001b[0m \u001b[0;34m=\u001b[0m \u001b[0minput\u001b[0m\u001b[0;34m(\u001b[0m\u001b[0;34m'\\n Whats your next questions'\u001b[0m\u001b[0;34m)\u001b[0m\u001b[0;34m.\u001b[0m\u001b[0mstrip\u001b[0m\u001b[0;34m(\u001b[0m\u001b[0;34m)\u001b[0m\u001b[0;34m\u001b[0m\u001b[0;34m\u001b[0m\u001b[0m\n\u001b[0m\u001b[1;32m      8\u001b[0m \u001b[0;34m\u001b[0m\u001b[0m\n\u001b[1;32m      9\u001b[0m   \u001b[0;32mif\u001b[0m \u001b[0mquery_text\u001b[0m\u001b[0;34m.\u001b[0m\u001b[0mlower\u001b[0m\u001b[0;34m(\u001b[0m\u001b[0;34m)\u001b[0m \u001b[0;34m==\u001b[0m \u001b[0;34m'quit'\u001b[0m\u001b[0;34m:\u001b[0m\u001b[0;34m\u001b[0m\u001b[0;34m\u001b[0m\u001b[0m\n",
            "\u001b[0;32m/usr/local/lib/python3.10/dist-packages/ipykernel/kernelbase.py\u001b[0m in \u001b[0;36mraw_input\u001b[0;34m(self, prompt)\u001b[0m\n\u001b[1;32m    849\u001b[0m                 \u001b[0;34m\"raw_input was called, but this frontend does not support input requests.\"\u001b[0m\u001b[0;34m\u001b[0m\u001b[0;34m\u001b[0m\u001b[0m\n\u001b[1;32m    850\u001b[0m             )\n\u001b[0;32m--> 851\u001b[0;31m         return self._input_request(str(prompt),\n\u001b[0m\u001b[1;32m    852\u001b[0m             \u001b[0mself\u001b[0m\u001b[0;34m.\u001b[0m\u001b[0m_parent_ident\u001b[0m\u001b[0;34m,\u001b[0m\u001b[0;34m\u001b[0m\u001b[0;34m\u001b[0m\u001b[0m\n\u001b[1;32m    853\u001b[0m             \u001b[0mself\u001b[0m\u001b[0;34m.\u001b[0m\u001b[0m_parent_header\u001b[0m\u001b[0;34m,\u001b[0m\u001b[0;34m\u001b[0m\u001b[0;34m\u001b[0m\u001b[0m\n",
            "\u001b[0;32m/usr/local/lib/python3.10/dist-packages/ipykernel/kernelbase.py\u001b[0m in \u001b[0;36m_input_request\u001b[0;34m(self, prompt, ident, parent, password)\u001b[0m\n\u001b[1;32m    893\u001b[0m             \u001b[0;32mexcept\u001b[0m \u001b[0mKeyboardInterrupt\u001b[0m\u001b[0;34m:\u001b[0m\u001b[0;34m\u001b[0m\u001b[0;34m\u001b[0m\u001b[0m\n\u001b[1;32m    894\u001b[0m                 \u001b[0;31m# re-raise KeyboardInterrupt, to truncate traceback\u001b[0m\u001b[0;34m\u001b[0m\u001b[0;34m\u001b[0m\u001b[0m\n\u001b[0;32m--> 895\u001b[0;31m                 \u001b[0;32mraise\u001b[0m \u001b[0mKeyboardInterrupt\u001b[0m\u001b[0;34m(\u001b[0m\u001b[0;34m\"Interrupted by user\"\u001b[0m\u001b[0;34m)\u001b[0m \u001b[0;32mfrom\u001b[0m \u001b[0;32mNone\u001b[0m\u001b[0;34m\u001b[0m\u001b[0;34m\u001b[0m\u001b[0m\n\u001b[0m\u001b[1;32m    896\u001b[0m             \u001b[0;32mexcept\u001b[0m \u001b[0mException\u001b[0m \u001b[0;32mas\u001b[0m \u001b[0me\u001b[0m\u001b[0;34m:\u001b[0m\u001b[0;34m\u001b[0m\u001b[0;34m\u001b[0m\u001b[0m\n\u001b[1;32m    897\u001b[0m                 \u001b[0mself\u001b[0m\u001b[0;34m.\u001b[0m\u001b[0mlog\u001b[0m\u001b[0;34m.\u001b[0m\u001b[0mwarning\u001b[0m\u001b[0;34m(\u001b[0m\u001b[0;34m\"Invalid Message:\"\u001b[0m\u001b[0;34m,\u001b[0m \u001b[0mexc_info\u001b[0m\u001b[0;34m=\u001b[0m\u001b[0;32mTrue\u001b[0m\u001b[0;34m)\u001b[0m\u001b[0;34m\u001b[0m\u001b[0;34m\u001b[0m\u001b[0m\n",
            "\u001b[0;31mKeyboardInterrupt\u001b[0m: Interrupted by user"
          ]
        }
      ]
    },
    {
      "cell_type": "code",
      "source": [
        "doc.page_content"
      ],
      "metadata": {
        "colab": {
          "base_uri": "https://localhost:8080/",
          "height": 191
        },
        "id": "EW9UjFtciIUz",
        "outputId": "cc6e2361-c2b0-414d-fda2-5d2fa1d81d84"
      },
      "execution_count": null,
      "outputs": [
        {
          "output_type": "execute_result",
          "data": {
            "text/plain": [
              "'FUND OVERVIEW \\nThe table below summarizes key measures of the Partnership as of the current quarter and the most recent prior \\nreporting periods.     \\nTotal Value is the sum of all distributions (cash and in-kind) and the Net Assets of the Partnership.  Net Cash is the sum of all balance \\nsheet accounts excluding Portfolio Investments.  Contributed Capital includes all capital contributions except deemed contributions by \\nthe General Partner.  Fund Multiple is the ratio of Total Value to Contributed Capital (excluding deemed contributions by the General \\nPartner).  LP Multiple is the ratio of the limited partners’ Total Value to the limited partners’ Contributed Capital.  Fund IRR and LP IRR,'"
            ],
            "application/vnd.google.colaboratory.intrinsic+json": {
              "type": "string"
            }
          },
          "metadata": {},
          "execution_count": 63
        }
      ]
    }
  ]
}
